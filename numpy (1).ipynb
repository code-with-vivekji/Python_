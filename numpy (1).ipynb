{
 "cells": [
  {
   "cell_type": "code",
   "execution_count": null,
   "id": "8367335d-bbf9-43e4-937c-a69408d53101",
   "metadata": {},
   "outputs": [
    {
     "data": {
      "text/plain": [
       "array([ 1,  2,  3,  4,  5,  6,  7,  8,  9, 10])"
      ]
     },
     "execution_count": 36,
     "metadata": {},
     "output_type": "execute_result"
    }
   ],
   "source": [
    "import numpy as np\n",
    "arr=np.array([1,2,3,4,5,6,7,8,9,10])\n",
    "arr"
   ]
  },
  {
   "cell_type": "code",
   "execution_count": null,
   "id": "1eea90cc-4f1c-4224-b86c-f4dfdfe42cbd",
   "metadata": {},
   "outputs": [
    {
     "data": {
      "text/plain": [
       "array([[1, 2, 3],\n",
       "       [4, 5, 6],\n",
       "       [7, 8, 9]])"
      ]
     },
     "execution_count": 37,
     "metadata": {},
     "output_type": "execute_result"
    }
   ],
   "source": [
    "list_of_list=[[1,2,3],[4,5,6],[7,8,9]]\n",
    "np.array(list_of_list)"
   ]
  },
  {
   "cell_type": "code",
   "execution_count": null,
   "id": "8236fd97-8c62-4aba-95fd-fb2122663a83",
   "metadata": {
    "scrolled": true
   },
   "outputs": [
    {
     "data": {
      "text/plain": [
       "array([ 1,  2,  3,  4,  5,  6,  7,  8,  9, 10, 11, 12, 13, 14, 15, 16, 17,\n",
       "       18, 19])"
      ]
     },
     "execution_count": 38,
     "metadata": {},
     "output_type": "execute_result"
    }
   ],
   "source": [
    "np.arange(1,20) "
   ]
  },
  {
   "cell_type": "code",
   "execution_count": null,
   "id": "3434423d-2d74-41ed-85ff-1c4205cea6db",
   "metadata": {},
   "outputs": [
    {
     "data": {
      "text/plain": [
       "array([ 0,  1,  2,  3,  4,  5,  6,  7,  8,  9, 10, 11, 12, 13, 14, 15])"
      ]
     },
     "execution_count": 39,
     "metadata": {},
     "output_type": "execute_result"
    }
   ],
   "source": [
    "np.arange(16) "
   ]
  },
  {
   "cell_type": "code",
   "execution_count": null,
   "id": "e2f5fda2-e4ea-4068-a2bb-a40960e7b179",
   "metadata": {},
   "outputs": [
    {
     "data": {
      "text/plain": [
       "array([ 1,  6, 11, 16, 21, 26, 31, 36, 41])"
      ]
     },
     "execution_count": 40,
     "metadata": {},
     "output_type": "execute_result"
    }
   ],
   "source": [
    "np.arange(1,46,5)"
   ]
  },
  {
   "cell_type": "code",
   "execution_count": null,
   "id": "c30cdb9c-7ad1-419d-8878-60d6185c9a08",
   "metadata": {},
   "outputs": [
    {
     "data": {
      "text/plain": [
       "array([0., 0., 0., 0., 0.])"
      ]
     },
     "execution_count": 41,
     "metadata": {},
     "output_type": "execute_result"
    }
   ],
   "source": [
    "np.zeros(5)"
   ]
  },
  {
   "cell_type": "code",
   "execution_count": null,
   "id": "059954d2-5cf6-4467-a4e5-85fdaf496dcd",
   "metadata": {},
   "outputs": [
    {
     "data": {
      "text/plain": [
       "array([0, 0, 0, 0, 0])"
      ]
     },
     "execution_count": 42,
     "metadata": {},
     "output_type": "execute_result"
    }
   ],
   "source": [
    "np.zeros(5,int)"
   ]
  },
  {
   "cell_type": "code",
   "execution_count": null,
   "id": "92a59c01-e7cb-415c-ab99-c28a33bf718b",
   "metadata": {},
   "outputs": [
    {
     "data": {
      "text/plain": [
       "array([1., 1., 1., 1., 1., 1., 1., 1., 1., 1.])"
      ]
     },
     "execution_count": 43,
     "metadata": {},
     "output_type": "execute_result"
    }
   ],
   "source": [
    "np.ones(10)"
   ]
  },
  {
   "cell_type": "code",
   "execution_count": null,
   "id": "0b4a2fa6-93e1-4d09-a854-9a977b647b7c",
   "metadata": {},
   "outputs": [
    {
     "data": {
      "text/plain": [
       "array([1, 1, 1, 1, 1, 1, 1, 1, 1, 1])"
      ]
     },
     "execution_count": 44,
     "metadata": {},
     "output_type": "execute_result"
    }
   ],
   "source": [
    "np.ones(10,int)"
   ]
  },
  {
   "cell_type": "code",
   "execution_count": null,
   "id": "2c989981-3cad-48db-96da-9be4dc6a32a0",
   "metadata": {},
   "outputs": [
    {
     "data": {
      "text/plain": [
       "array([[1., 1., 1., 1., 1.],\n",
       "       [1., 1., 1., 1., 1.]])"
      ]
     },
     "execution_count": 45,
     "metadata": {},
     "output_type": "execute_result"
    }
   ],
   "source": [
    "np.ones((2,5))"
   ]
  },
  {
   "cell_type": "code",
   "execution_count": null,
   "id": "ed7e4ae6-19bd-4af7-b439-754571b7b1a7",
   "metadata": {},
   "outputs": [
    {
     "data": {
      "text/plain": [
       "array([[1, 1, 1, 1, 1],\n",
       "       [1, 1, 1, 1, 1]])"
      ]
     },
     "execution_count": 46,
     "metadata": {},
     "output_type": "execute_result"
    }
   ],
   "source": [
    "np.ones((2,5),int)"
   ]
  },
  {
   "cell_type": "code",
   "execution_count": null,
   "id": "fec4e0b6-b7f9-48a8-89c1-dc2311846a0b",
   "metadata": {},
   "outputs": [
    {
     "data": {
      "text/plain": [
       "array([[0, 0, 0, 0, 0, 0, 0, 0, 0, 0, 0, 0, 0, 0, 0],\n",
       "       [0, 0, 0, 0, 0, 0, 0, 0, 0, 0, 0, 0, 0, 0, 0],\n",
       "       [0, 0, 0, 0, 0, 0, 0, 0, 0, 0, 0, 0, 0, 0, 0],\n",
       "       [0, 0, 0, 0, 0, 0, 0, 0, 0, 0, 0, 0, 0, 0, 0],\n",
       "       [0, 0, 0, 0, 0, 0, 0, 0, 0, 0, 0, 0, 0, 0, 0],\n",
       "       [0, 0, 0, 0, 0, 0, 0, 0, 0, 0, 0, 0, 0, 0, 0],\n",
       "       [0, 0, 0, 0, 0, 0, 0, 0, 0, 0, 0, 0, 0, 0, 0],\n",
       "       [0, 0, 0, 0, 0, 0, 0, 0, 0, 0, 0, 0, 0, 0, 0],\n",
       "       [0, 0, 0, 0, 0, 0, 0, 0, 0, 0, 0, 0, 0, 0, 0],\n",
       "       [0, 0, 0, 0, 0, 0, 0, 0, 0, 0, 0, 0, 0, 0, 0],\n",
       "       [0, 0, 0, 0, 0, 0, 0, 0, 0, 0, 0, 0, 0, 0, 0],\n",
       "       [0, 0, 0, 0, 0, 0, 0, 0, 0, 0, 0, 0, 0, 0, 0]])"
      ]
     },
     "execution_count": 47,
     "metadata": {},
     "output_type": "execute_result"
    }
   ],
   "source": [
    "np.zeros((12,15),int)"
   ]
  },
  {
   "cell_type": "code",
   "execution_count": null,
   "id": "5d80126d-f61a-469f-ba43-32638a420deb",
   "metadata": {},
   "outputs": [
    {
     "data": {
      "text/plain": [
       "array([0.        , 0.33333333, 0.66666667, 1.        ])"
      ]
     },
     "execution_count": 48,
     "metadata": {},
     "output_type": "execute_result"
    }
   ],
   "source": [
    "np.linspace(0,1,4)"
   ]
  },
  {
   "cell_type": "code",
   "execution_count": null,
   "id": "8fec5115-c770-4416-8e65-fedfca24e0a9",
   "metadata": {},
   "outputs": [
    {
     "data": {
      "text/plain": [
       "array([ 0.        ,  2.85714286,  5.71428571,  8.57142857, 11.42857143,\n",
       "       14.28571429, 17.14285714, 20.        ])"
      ]
     },
     "execution_count": 49,
     "metadata": {},
     "output_type": "execute_result"
    }
   ],
   "source": [
    "np.linspace(0,20,8)"
   ]
  },
  {
   "cell_type": "code",
   "execution_count": null,
   "id": "127ef3e5-3220-4a5f-80b3-b8d9f7561129",
   "metadata": {
    "scrolled": true
   },
   "outputs": [
    {
     "data": {
      "text/plain": [
       "array([0.        , 0.04081633, 0.08163265, 0.12244898, 0.16326531,\n",
       "       0.20408163, 0.24489796, 0.28571429, 0.32653061, 0.36734694,\n",
       "       0.40816327, 0.44897959, 0.48979592, 0.53061224, 0.57142857,\n",
       "       0.6122449 , 0.65306122, 0.69387755, 0.73469388, 0.7755102 ,\n",
       "       0.81632653, 0.85714286, 0.89795918, 0.93877551, 0.97959184,\n",
       "       1.02040816, 1.06122449, 1.10204082, 1.14285714, 1.18367347,\n",
       "       1.2244898 , 1.26530612, 1.30612245, 1.34693878, 1.3877551 ,\n",
       "       1.42857143, 1.46938776, 1.51020408, 1.55102041, 1.59183673,\n",
       "       1.63265306, 1.67346939, 1.71428571, 1.75510204, 1.79591837,\n",
       "       1.83673469, 1.87755102, 1.91836735, 1.95918367, 2.        ])"
      ]
     },
     "execution_count": 50,
     "metadata": {},
     "output_type": "execute_result"
    }
   ],
   "source": [
    "np.linspace(0,2)"
   ]
  },
  {
   "cell_type": "code",
   "execution_count": null,
   "id": "224730fa-a369-42ae-94b3-f62fb2ba3b70",
   "metadata": {},
   "outputs": [
    {
     "data": {
      "text/plain": [
       "array([[1., 0., 0., 0., 0., 0.],\n",
       "       [0., 1., 0., 0., 0., 0.],\n",
       "       [0., 0., 1., 0., 0., 0.],\n",
       "       [0., 0., 0., 1., 0., 0.],\n",
       "       [0., 0., 0., 0., 1., 0.],\n",
       "       [0., 0., 0., 0., 0., 1.]])"
      ]
     },
     "execution_count": 51,
     "metadata": {},
     "output_type": "execute_result"
    }
   ],
   "source": [
    "np.eye(6)"
   ]
  },
  {
   "cell_type": "code",
   "execution_count": null,
   "id": "ca0e591e-3378-4c2b-954f-0dc60140d45c",
   "metadata": {},
   "outputs": [
    {
     "data": {
      "text/plain": [
       "array([[0.92396559, 0.3627637 , 0.0458656 , 0.38107679, 0.60278116],\n",
       "       [0.27069825, 0.54863744, 0.73549041, 0.50384367, 0.81506323],\n",
       "       [0.25354497, 0.34206481, 0.35196673, 0.94910015, 0.34480589]])"
      ]
     },
     "execution_count": 52,
     "metadata": {},
     "output_type": "execute_result"
    }
   ],
   "source": [
    "np.random.rand(3,5)"
   ]
  },
  {
   "cell_type": "code",
   "execution_count": null,
   "id": "1cc2b8c1-148a-4d15-a719-40594b344b02",
   "metadata": {},
   "outputs": [
    {
     "data": {
      "text/plain": [
       "array([[-2.22521252,  1.50620294,  0.89574405, -0.28152553,  0.21520973],\n",
       "       [ 1.31861621,  0.17025344,  1.51846917,  0.02117315,  1.02618993],\n",
       "       [-0.30945301,  1.39811269,  0.6397809 , -0.33065021, -0.40766878]])"
      ]
     },
     "execution_count": 53,
     "metadata": {},
     "output_type": "execute_result"
    }
   ],
   "source": [
    " np.random.randn(3,5)"
   ]
  },
  {
   "cell_type": "code",
   "execution_count": null,
   "id": "7410e487-191c-4837-8138-c91599bd565a",
   "metadata": {},
   "outputs": [
    {
     "data": {
      "text/plain": [
       "81"
      ]
     },
     "execution_count": 54,
     "metadata": {},
     "output_type": "execute_result"
    }
   ],
   "source": [
    "np.random.randint(34,99)"
   ]
  },
  {
   "cell_type": "code",
   "execution_count": null,
   "id": "98f2577b-32d5-4df3-af97-ff3d47fb0fff",
   "metadata": {},
   "outputs": [
    {
     "data": {
      "text/plain": [
       "88"
      ]
     },
     "execution_count": 55,
     "metadata": {},
     "output_type": "execute_result"
    }
   ],
   "source": [
    "np.random.randint(34,99)"
   ]
  },
  {
   "cell_type": "code",
   "execution_count": null,
   "id": "3871ecd1-9f5a-4b70-abd2-c825eaecbc4c",
   "metadata": {},
   "outputs": [
    {
     "data": {
      "text/plain": [
       "array([42, 46, 35, 44, 42, 47, 39, 48, 34, 35, 36, 45, 40, 48, 44, 42, 36,\n",
       "       39, 37, 38, 42, 36, 40, 47, 36, 43, 40, 44, 48, 45, 37, 43, 44, 35,\n",
       "       45, 40, 43, 44, 46, 36, 47, 47, 38, 46, 37, 44, 45, 36, 44, 48, 35,\n",
       "       48, 36, 42, 45, 42, 41, 36, 47, 38, 47, 46, 37, 45, 38, 47, 46, 40,\n",
       "       38, 47, 41, 47, 46, 42, 48, 47, 40, 39, 36, 39, 44, 47, 44, 42, 40,\n",
       "       34, 45, 34, 46, 36, 47, 41, 35, 41, 40, 36, 40, 35, 37, 46],\n",
       "      dtype=int32)"
      ]
     },
     "execution_count": 56,
     "metadata": {},
     "output_type": "execute_result"
    }
   ],
   "source": [
    "np.random.randint(34,49,100)"
   ]
  },
  {
   "cell_type": "code",
   "execution_count": null,
   "id": "62ccec1a-abd1-43bf-b359-9b06c9d933a2",
   "metadata": {},
   "outputs": [
    {
     "data": {
      "text/plain": [
       "array([ 0,  1,  2,  3,  4,  5,  6,  7,  8,  9, 10, 11, 12, 13, 14, 15, 16,\n",
       "       17, 18, 19, 20, 21, 22, 23, 24, 25, 26, 27, 28, 29, 30, 31, 32, 33,\n",
       "       34, 35, 36, 37, 38, 39, 40, 41, 42, 43, 44, 45, 46, 47, 48, 49, 50,\n",
       "       51, 52, 53, 54, 55, 56, 57, 58, 59, 60, 61, 62, 63, 64, 65, 66, 67,\n",
       "       68, 69, 70, 71, 72, 73, 74, 75, 76, 77, 78, 79, 80, 81, 82, 83, 84,\n",
       "       85, 86, 87, 88, 89, 90, 91, 92, 93, 94, 95, 96, 97, 98, 99])"
      ]
     },
     "execution_count": 57,
     "metadata": {},
     "output_type": "execute_result"
    }
   ],
   "source": [
    "sample_array=np.arange(100)\n",
    "sample_array"
   ]
  },
  {
   "cell_type": "code",
   "execution_count": null,
   "id": "19f70b81-471e-461a-bb0b-5e8e7200e852",
   "metadata": {},
   "outputs": [
    {
     "data": {
      "text/plain": [
       "array([90, 12, 57, 38, 41, 31, 58, 50, 48, 20,  7, 32,  2, 56, 65, 34, 25,\n",
       "       40, 62, 38], dtype=int32)"
      ]
     },
     "execution_count": 58,
     "metadata": {},
     "output_type": "execute_result"
    }
   ],
   "source": [
    "rand_array=np.random.randint(0,100,20)\n",
    "rand_array"
   ]
  },
  {
   "cell_type": "code",
   "execution_count": null,
   "id": "85ba3f5a-c053-4f8b-a3b5-4a2c958e4d13",
   "metadata": {
    "scrolled": true
   },
   "outputs": [
    {
     "ename": "ValueError",
     "evalue": "cannot reshape array of size 100 into shape (2,5)",
     "output_type": "error",
     "traceback": [
      "\u001b[31m---------------------------------------------------------------------------\u001b[39m",
      "\u001b[31mValueError\u001b[39m                                Traceback (most recent call last)",
      "\u001b[36mCell\u001b[39m\u001b[36m \u001b[39m\u001b[32mIn[59]\u001b[39m\u001b[32m, line 1\u001b[39m\n\u001b[32m----> \u001b[39m\u001b[32m1\u001b[39m \u001b[43msample_array\u001b[49m\u001b[43m.\u001b[49m\u001b[43mreshape\u001b[49m\u001b[43m(\u001b[49m\u001b[32;43m2\u001b[39;49m\u001b[43m,\u001b[49m\u001b[32;43m5\u001b[39;49m\u001b[43m)\u001b[49m\n",
      "\u001b[31mValueError\u001b[39m: cannot reshape array of size 100 into shape (2,5)"
     ]
    }
   ],
   "source": [
    "sample_array.reshape(2,5)"
   ]
  },
  {
   "cell_type": "code",
   "execution_count": null,
   "id": "c279e319-4e5c-43c2-80a8-5fb0df005390",
   "metadata": {},
   "outputs": [],
   "source": [
    "sample_array.reshape(10,10)"
   ]
  },
  {
   "cell_type": "code",
   "execution_count": null,
   "id": "7f2c90e7-04af-4861-b6fb-c0cdec0b7f10",
   "metadata": {},
   "outputs": [],
   "source": [
    "sample_array.reshape(20,5)"
   ]
  },
  {
   "cell_type": "code",
   "execution_count": null,
   "id": "1564729f-70ee-4ff2-849c-e2df95b180b2",
   "metadata": {},
   "outputs": [],
   "source": [
    "sample_array.reshape(2,50)"
   ]
  },
  {
   "cell_type": "code",
   "execution_count": null,
   "id": "5c11c30b-2273-425d-83df-397223b37e66",
   "metadata": {},
   "outputs": [],
   "source": [
    "rand_array.min()"
   ]
  },
  {
   "cell_type": "code",
   "execution_count": null,
   "id": "054e6378-a968-4428-851f-fec13f7aea74",
   "metadata": {},
   "outputs": [],
   "source": [
    "rand_array.argmin()"
   ]
  },
  {
   "cell_type": "code",
   "execution_count": null,
   "id": "f4dccbea-c11a-44f8-a43e-f1e1d108487b",
   "metadata": {},
   "outputs": [],
   "source": [
    "rand_array.max()"
   ]
  },
  {
   "cell_type": "code",
   "execution_count": null,
   "id": "d0d59848-534c-440c-b3f7-b786f3c0104f",
   "metadata": {},
   "outputs": [],
   "source": [
    "rand_array.argmax()"
   ]
  },
  {
   "cell_type": "code",
   "execution_count": null,
   "id": "f2dd9eb3-89c4-4243-b727-5bab8305d66a",
   "metadata": {},
   "outputs": [],
   "source": [
    "sample_array.dtype"
   ]
  },
  {
   "cell_type": "code",
   "execution_count": null,
   "id": "08b3873f-ce69-4c78-bb07-3e9d41507b5e",
   "metadata": {},
   "outputs": [],
   "source": [
    "a=np.eye(5)\n",
    "a"
   ]
  },
  {
   "cell_type": "code",
   "execution_count": null,
   "id": "1fc11495-da44-493f-b2c8-f272b52ab572",
   "metadata": {},
   "outputs": [],
   "source": [
    "a.T"
   ]
  },
  {
   "cell_type": "code",
   "execution_count": null,
   "id": "5dd5d590-f43b-49c3-a8e7-ab5a9ea0ee84",
   "metadata": {},
   "outputs": [],
   "source": [
    "a=np.random.rand(2,3)\n",
    "a"
   ]
  },
  {
   "cell_type": "code",
   "execution_count": null,
   "id": "ab5c8448-b0d5-4928-b686-ab9c70edb184",
   "metadata": {},
   "outputs": [],
   "source": [
    " a.T"
   ]
  },
  {
   "cell_type": "code",
   "execution_count": null,
   "id": "c1d5165c-af61-4808-a2d0-9171b2d67cda",
   "metadata": {},
   "outputs": [],
   "source": [
    "sample_array=np .arange (10,22)\n",
    "sample_array"
   ]
  },
  {
   "cell_type": "code",
   "execution_count": null,
   "id": "8894eced-f819-4c77-afc3-bb3b0badd9e1",
   "metadata": {},
   "outputs": [],
   "source": [
    "sample_array[-5]"
   ]
  },
  {
   "cell_type": "markdown",
   "id": "2d599c4c-1f74-44f1-b1d2-558e288b2a26",
   "metadata": {},
   "source": [
    "sample_array[5]"
   ]
  },
  {
   "cell_type": "code",
   "execution_count": null,
   "id": "e68eff3d-7d6e-40ed-8c62-2f884f3797bb",
   "metadata": {},
   "outputs": [],
   "source": [
    "sample_array[3:7]"
   ]
  },
  {
   "cell_type": "code",
   "execution_count": null,
   "id": "3f2bce51-9c91-43d0-a4a9-98c0233284d7",
   "metadata": {},
   "outputs": [],
   "source": [
    "sample_array[1:4]=100\n",
    "sample_array"
   ]
  },
  {
   "cell_type": "code",
   "execution_count": null,
   "id": "d0dc0bf8-7261-441a-88d0-3480765e142d",
   "metadata": {},
   "outputs": [],
   "source": [
    "sample_array=np.arange(10,21)\n",
    "sample_array"
   ]
  },
  {
   "cell_type": "code",
   "execution_count": null,
   "id": "8d362bf9-dd14-4132-b57e-ca66726b1df6",
   "metadata": {},
   "outputs": [
    {
     "data": {
      "text/plain": [
       "array([2, 3, 4, 5])"
      ]
     },
     "execution_count": 61,
     "metadata": {},
     "output_type": "execute_result"
    }
   ],
   "source": [
    "sample_array[2:6]"
   ]
  },
  {
   "cell_type": "code",
   "execution_count": null,
   "id": "2917675e-e5d5-41b8-8d87-8b82a7e6962f",
   "metadata": {},
   "outputs": [
    {
     "data": {
      "text/plain": [
       "array([2, 3, 4, 5])"
      ]
     },
     "execution_count": 62,
     "metadata": {},
     "output_type": "execute_result"
    }
   ],
   "source": [
    "subset_sample_array=sample_array[2:6]\n",
    "subset_sample_array"
   ]
  },
  {
   "cell_type": "code",
   "execution_count": null,
   "id": "de372ed8-4491-4509-9c89-4654c7e08ee7",
   "metadata": {},
   "outputs": [
    {
     "data": {
      "text/plain": [
       "array([  2, 501,   4,   5])"
      ]
     },
     "execution_count": 63,
     "metadata": {},
     "output_type": "execute_result"
    }
   ],
   "source": [
    "subset_sample_array[1:2]=501\n",
    "subset_sample_array"
   ]
  },
  {
   "cell_type": "code",
   "execution_count": null,
   "id": "aab01ab9-7456-4b67-8025-6b246bbd6c17",
   "metadata": {},
   "outputs": [
    {
     "data": {
      "text/plain": [
       "array([501, 501, 501, 501])"
      ]
     },
     "execution_count": 64,
     "metadata": {},
     "output_type": "execute_result"
    }
   ],
   "source": [
    "subset_sample_array[:]=501\n",
    "subset_sample_array"
   ]
  },
  {
   "cell_type": "code",
   "execution_count": null,
   "id": "c69aaa41-553a-4f49-82f3-4496a67a5dc7",
   "metadata": {},
   "outputs": [],
   "source": [
    "Two-Dimensional array"
   ]
  },
  {
   "cell_type": "code",
   "execution_count": null,
   "id": "9ddf28a1-5d23-46da-b222-a6c4b6310b11",
   "metadata": {},
   "outputs": [],
   "source": [
    "import numpy as v"
   ]
  },
  {
   "cell_type": "code",
   "execution_count": null,
   "id": "5585c884-f17b-4e4f-94d7-78cae6f44d6d",
   "metadata": {},
   "outputs": [
    {
     "data": {
      "text/plain": [
       "array([[50, 20, 16, 23],\n",
       "       [55, 14,  5, 26],\n",
       "       [12, 64, 65, 89]])"
      ]
     },
     "execution_count": 71,
     "metadata": {},
     "output_type": "execute_result"
    }
   ],
   "source": [
    "sample_matrix=v.array(([50,20,16,23],[55,14,5,26],[12,64,65,89]))\n",
    "sample_matrix"
   ]
  },
  {
   "cell_type": "code",
   "execution_count": null,
   "id": "181d554d-bd8a-4439-bf25-f3c6d35c58e2",
   "metadata": {},
   "outputs": [
    {
     "data": {
      "text/plain": [
       "np.int64(89)"
      ]
     },
     "execution_count": 73,
     "metadata": {},
     "output_type": "execute_result"
    }
   ],
   "source": [
    "sample_matrix[2][3]"
   ]
  },
  {
   "cell_type": "code",
   "execution_count": null,
   "id": "d79b45e8-6072-45ad-a0b8-23ed936605a2",
   "metadata": {},
   "outputs": [
    {
     "data": {
      "text/plain": [
       "array([12, 64, 65, 89])"
      ]
     },
     "execution_count": 74,
     "metadata": {},
     "output_type": "execute_result"
    }
   ],
   "source": [
    "sample_matrix[2][:]"
   ]
  },
  {
   "cell_type": "code",
   "execution_count": null,
   "id": "6884e08d-e099-476d-9622-8cb0978362be",
   "metadata": {},
   "outputs": [
    {
     "data": {
      "text/plain": [
       "array([55, 14,  5, 26])"
      ]
     },
     "execution_count": 77,
     "metadata": {},
     "output_type": "execute_result"
    }
   ],
   "source": [
    "sample_matrix[:][1]"
   ]
  },
  {
   "cell_type": "code",
   "execution_count": null,
   "id": "9721dc67-3899-4a32-8cd9-64acdac266fd",
   "metadata": {},
   "outputs": [
    {
     "data": {
      "text/plain": [
       "array([[50, 20, 16, 23],\n",
       "       [55, 14,  5, 26],\n",
       "       [12, 64, 65, 89]])"
      ]
     },
     "execution_count": 79,
     "metadata": {},
     "output_type": "execute_result"
    }
   ],
   "source": [
    "sample_matrix"
   ]
  },
  {
   "cell_type": "code",
   "execution_count": null,
   "id": "ce117986-078b-4d4c-bcc9-abbf69a61a1c",
   "metadata": {},
   "outputs": [
    {
     "data": {
      "text/plain": [
       "array([12, 64, 65, 89])"
      ]
     },
     "execution_count": 80,
     "metadata": {},
     "output_type": "execute_result"
    }
   ],
   "source": [
    "sample_matrix[2]"
   ]
  },
  {
   "cell_type": "code",
   "execution_count": null,
   "id": "f4aa74e8-9b99-47c4-8313-1201c08f8f67",
   "metadata": {},
   "outputs": [
    {
     "data": {
      "text/plain": [
       "array([[20, 23],\n",
       "       [14, 26],\n",
       "       [64, 89]])"
      ]
     },
     "execution_count": 84,
     "metadata": {},
     "output_type": "execute_result"
    }
   ],
   "source": [
    " sample_matrix[:,(1,3)]"
   ]
  },
  {
   "cell_type": "code",
   "execution_count": null,
   "id": "c25ba98f-0c67-4551-ae3c-76e3cb7b8e85",
   "metadata": {},
   "outputs": [
    {
     "data": {
      "text/plain": [
       "array([[55, 14,  5, 26],\n",
       "       [12, 64, 65, 89]])"
      ]
     },
     "execution_count": 86,
     "metadata": {},
     "output_type": "execute_result"
    }
   ],
   "source": [
    "  sample_matrix[(1,2),:]"
   ]
  },
  {
   "cell_type": "markdown",
   "id": "6cac9503-9197-4bd8-b5af-0fb5b45cbb48",
   "metadata": {},
   "source": [
    "sample_matrix[(1)]=22,55,12,46"
   ]
  },
  {
   "cell_type": "code",
   "execution_count": null,
   "id": "f35451ee-cc15-42d0-ac0d-d9657a7614f1",
   "metadata": {},
   "outputs": [
    {
     "data": {
      "text/plain": [
       "array([[50, 20, 16, 23],\n",
       "       [55, 14,  5, 26],\n",
       "       [12, 64, 65, 89]])"
      ]
     },
     "execution_count": 87,
     "metadata": {},
     "output_type": "execute_result"
    }
   ],
   "source": [
    "sample_matrix"
   ]
  },
  {
   "cell_type": "code",
   "execution_count": null,
   "id": "eee4efc2-df9c-480f-bc56-c44378fb2b62",
   "metadata": {},
   "outputs": [],
   "source": [
    "sample_matrix[(1)]=22,55,12,46"
   ]
  },
  {
   "cell_type": "code",
   "execution_count": null,
   "id": "57a70d88-cba3-4df5-981f-ac485a98a889",
   "metadata": {},
   "outputs": [
    {
     "data": {
      "text/plain": [
       "array([[50, 20, 16, 23],\n",
       "       [22, 55, 12, 46],\n",
       "       [12, 64, 65, 89]])"
      ]
     },
     "execution_count": 89,
     "metadata": {},
     "output_type": "execute_result"
    }
   ],
   "source": [
    "sample_matrix"
   ]
  },
  {
   "cell_type": "code",
   "execution_count": null,
   "id": "80556b14-31ce-4616-a268-671a6649d5e4",
   "metadata": {},
   "outputs": [],
   "source": [
    "sample_matrix[(2)]=23,44,50,60"
   ]
  },
  {
   "cell_type": "code",
   "execution_count": null,
   "id": "e13b9514-d458-4c37-bd98-2ebd436e2679",
   "metadata": {},
   "outputs": [
    {
     "data": {
      "text/plain": [
       "array([[50, 20, 16, 23],\n",
       "       [22, 55, 12, 46],\n",
       "       [23, 44, 50, 60]])"
      ]
     },
     "execution_count": 91,
     "metadata": {},
     "output_type": "execute_result"
    }
   ],
   "source": [
    "sample_matrix"
   ]
  },
  {
   "cell_type": "code",
   "execution_count": null,
   "id": "f33a0a9b-5cf0-4870-ba79-b7a81ce91bc9",
   "metadata": {},
   "outputs": [],
   "source": [
    "Selection Techniques"
   ]
  },
  {
   "cell_type": "code",
   "execution_count": null,
   "id": "a878e9ab-d896-4b40-a930-93e67420103b",
   "metadata": {},
   "outputs": [],
   "source": [
    "sample_array=v.arange(1,20)"
   ]
  },
  {
   "cell_type": "code",
   "execution_count": null,
   "id": "d644dad1-4d32-4b05-adc2-f8406eb0f742",
   "metadata": {},
   "outputs": [
    {
     "data": {
      "text/plain": [
       "array([ 1,  2,  3,  4,  5,  6,  7,  8,  9, 10, 11, 12, 13, 14, 15, 16, 17,\n",
       "       18, 19])"
      ]
     },
     "execution_count": 96,
     "metadata": {},
     "output_type": "execute_result"
    }
   ],
   "source": [
    "sample_array"
   ]
  },
  {
   "cell_type": "code",
   "execution_count": null,
   "id": "d0626825-e3ec-45de-8086-fa78916c1fd3",
   "metadata": {},
   "outputs": [
    {
     "data": {
      "text/plain": [
       "array([ 2,  4,  6,  8, 10, 12, 14, 16, 18, 20, 22, 24, 26, 28, 30, 32, 34,\n",
       "       36, 38])"
      ]
     },
     "execution_count": 97,
     "metadata": {},
     "output_type": "execute_result"
    }
   ],
   "source": [
    "sample_array+sample_array"
   ]
  },
  {
   "cell_type": "code",
   "execution_count": null,
   "id": "d4aed3cc-df57-4df6-a9c7-e4026a36dd55",
   "metadata": {},
   "outputs": [
    {
     "data": {
      "text/plain": [
       "array([0, 0, 0, 0, 0, 0, 0, 0, 0, 0, 0, 0, 0, 0, 0, 0, 0, 0, 0])"
      ]
     },
     "execution_count": 98,
     "metadata": {},
     "output_type": "execute_result"
    }
   ],
   "source": [
    "sample_array-sample_array"
   ]
  },
  {
   "cell_type": "code",
   "execution_count": null,
   "id": "6d812c32-1a5d-4121-9518-98e4f96e520e",
   "metadata": {},
   "outputs": [
    {
     "data": {
      "text/plain": [
       "array([  1,   4,   9,  16,  25,  36,  49,  64,  81, 100, 121, 144, 169,\n",
       "       196, 225, 256, 289, 324, 361])"
      ]
     },
     "execution_count": 99,
     "metadata": {},
     "output_type": "execute_result"
    }
   ],
   "source": [
    "sample_array*sample_array"
   ]
  },
  {
   "cell_type": "code",
   "execution_count": null,
   "id": "ba4a899f-8ab0-417b-a1b7-d948f58dee33",
   "metadata": {},
   "outputs": [],
   "source": [
    "sample_array[(5)]=20"
   ]
  },
  {
   "cell_type": "code",
   "execution_count": null,
   "id": "697b7ae9-d05c-4778-b42f-088f0e2782b6",
   "metadata": {},
   "outputs": [
    {
     "data": {
      "text/plain": [
       "array([ 1,  2,  3,  4,  5, 20,  7,  8,  9, 10, 11, 12, 13, 14, 15, 16, 17,\n",
       "       18, 19])"
      ]
     },
     "execution_count": 102,
     "metadata": {},
     "output_type": "execute_result"
    }
   ],
   "source": [
    "sample_array"
   ]
  },
  {
   "cell_type": "code",
   "execution_count": null,
   "id": "748d28de-19cb-4fd3-a52b-b5ff09ec266b",
   "metadata": {},
   "outputs": [],
   "source": [
    "sample_array[(5)]=6"
   ]
  },
  {
   "cell_type": "code",
   "execution_count": null,
   "id": "2b5bf5c5-54ea-407c-b46a-35c8acc3f590",
   "metadata": {},
   "outputs": [
    {
     "data": {
      "text/plain": [
       "array([2.71828183e+00, 7.38905610e+00, 2.00855369e+01, 5.45981500e+01,\n",
       "       1.48413159e+02, 4.03428793e+02, 1.09663316e+03, 2.98095799e+03,\n",
       "       8.10308393e+03, 2.20264658e+04, 5.98741417e+04, 1.62754791e+05,\n",
       "       4.42413392e+05, 1.20260428e+06, 3.26901737e+06, 8.88611052e+06,\n",
       "       2.41549528e+07, 6.56599691e+07, 1.78482301e+08])"
      ]
     },
     "execution_count": 104,
     "metadata": {},
     "output_type": "execute_result"
    }
   ],
   "source": [
    "v.exp(sample_array) "
   ]
  },
  {
   "cell_type": "code",
   "execution_count": null,
   "id": "69f70bb9-55f6-4069-ac93-2251edde0509",
   "metadata": {},
   "outputs": [],
   "source": [
    "v.exp(sample_array) # enponential"
   ]
  },
  {
   "cell_type": "code",
   "execution_count": null,
   "id": "0a24bbac-f2c5-4bdb-aea9-4f931b8a83b5",
   "metadata": {},
   "outputs": [
    {
     "data": {
      "text/plain": [
       "array([1.        , 1.41421356, 1.73205081, 2.        , 2.23606798,\n",
       "       2.44948974, 2.64575131, 2.82842712, 3.        , 3.16227766,\n",
       "       3.31662479, 3.46410162, 3.60555128, 3.74165739, 3.87298335,\n",
       "       4.        , 4.12310563, 4.24264069, 4.35889894])"
      ]
     },
     "execution_count": 110,
     "metadata": {},
     "output_type": "execute_result"
    }
   ],
   "source": [
    "np.sqrt(sample_array)"
   ]
  },
  {
   "cell_type": "code",
   "execution_count": null,
   "id": "e2cf9f93-41ad-4971-a42c-6c80f4a3db46",
   "metadata": {},
   "outputs": [
    {
     "data": {
      "text/plain": [
       "array([0.        , 0.69314718, 1.09861229, 1.38629436, 1.60943791,\n",
       "       1.79175947, 1.94591015, 2.07944154, 2.19722458, 2.30258509,\n",
       "       2.39789527, 2.48490665, 2.56494936, 2.63905733, 2.7080502 ,\n",
       "       2.77258872, 2.83321334, 2.89037176, 2.94443898])"
      ]
     },
     "execution_count": 111,
     "metadata": {},
     "output_type": "execute_result"
    }
   ],
   "source": [
    "v.log(sample_array) #square root"
   ]
  },
  {
   "cell_type": "code",
   "execution_count": null,
   "id": "1a2a5038-51bc-4d79-94b4-23ab2ebfe1a4",
   "metadata": {},
   "outputs": [
    {
     "data": {
      "text/plain": [
       "array([0.        , 0.69314718, 1.09861229, 1.38629436, 1.60943791,\n",
       "       1.79175947, 1.94591015, 2.07944154, 2.19722458, 2.30258509,\n",
       "       2.39789527, 2.48490665, 2.56494936, 2.63905733, 2.7080502 ,\n",
       "       2.77258872, 2.83321334, 2.89037176, 2.94443898])"
      ]
     },
     "execution_count": 112,
     "metadata": {},
     "output_type": "execute_result"
    }
   ],
   "source": [
    "v.log(sample_array)  #logarithm"
   ]
  },
  {
   "cell_type": "code",
   "execution_count": null,
   "id": "5d22b49d-649c-4610-9b0b-1911fb7f4dcf",
   "metadata": {},
   "outputs": [
    {
     "data": {
      "text/plain": [
       "np.int64(1)"
      ]
     },
     "execution_count": 114,
     "metadata": {},
     "output_type": "execute_result"
    }
   ],
   "source": [
    "v.min(sample_array)"
   ]
  },
  {
   "cell_type": "code",
   "execution_count": null,
   "id": "6f32d03b-dfd0-46fd-8d49-51ddd75e3226",
   "metadata": {},
   "outputs": [
    {
     "data": {
      "text/plain": [
       "np.int64(19)"
      ]
     },
     "execution_count": 115,
     "metadata": {},
     "output_type": "execute_result"
    }
   ],
   "source": [
    "np.max(sample_array)"
   ]
  },
  {
   "cell_type": "code",
   "execution_count": null,
   "id": "7573c5b5-311d-4b6d-9b74-6738df9598e7",
   "metadata": {},
   "outputs": [
    {
     "data": {
      "text/plain": [
       "np.int64(0)"
      ]
     },
     "execution_count": 116,
     "metadata": {},
     "output_type": "execute_result"
    }
   ],
   "source": [
    "np.argmin(sample_array) # index of min"
   ]
  },
  {
   "cell_type": "code",
   "execution_count": null,
   "id": "6e199910-01cd-4a6d-84f0-7abd2242055c",
   "metadata": {},
   "outputs": [
    {
     "data": {
      "text/plain": [
       "np.int64(18)"
      ]
     },
     "execution_count": 117,
     "metadata": {},
     "output_type": "execute_result"
    }
   ],
   "source": [
    "np.argmax(sample_array) # index of max"
   ]
  },
  {
   "cell_type": "code",
   "execution_count": null,
   "id": "f05a86c9-8adb-445d-85bf-e4045af460cf",
   "metadata": {},
   "outputs": [
    {
     "data": {
      "text/plain": [
       "array([  1,   4,   9,  16,  25,  36,  49,  64,  81, 100, 121, 144, 169,\n",
       "       196, 225, 256, 289, 324, 361])"
      ]
     },
     "execution_count": 118,
     "metadata": {},
     "output_type": "execute_result"
    }
   ],
   "source": [
    "v.square(sample_array) "
   ]
  },
  {
   "cell_type": "code",
   "execution_count": null,
   "id": "c95a875c-660e-46a9-8431-a0fa019aa047",
   "metadata": {},
   "outputs": [
    {
     "data": {
      "text/plain": [
       "np.float64(5.477225575051661)"
      ]
     },
     "execution_count": 119,
     "metadata": {},
     "output_type": "execute_result"
    }
   ],
   "source": [
    "v.std(sample_array) # standard deviation"
   ]
  },
  {
   "cell_type": "code",
   "execution_count": null,
   "id": "ad3bed8f-8be2-4389-ad1e-015ecfc60620",
   "metadata": {},
   "outputs": [
    {
     "data": {
      "text/plain": [
       "np.float64(30.0)"
      ]
     },
     "execution_count": 120,
     "metadata": {},
     "output_type": "execute_result"
    }
   ],
   "source": [
    "v.var(sample_array) "
   ]
  },
  {
   "cell_type": "code",
   "execution_count": null,
   "id": "60f1f3be-2ea8-4ff6-beec-b7114284628b",
   "metadata": {},
   "outputs": [
    {
     "data": {
      "text/plain": [
       "np.float64(10.0)"
      ]
     },
     "execution_count": 121,
     "metadata": {},
     "output_type": "execute_result"
    }
   ],
   "source": [
    "v.mean(sample_array)"
   ]
  },
  {
   "cell_type": "code",
   "execution_count": null,
   "id": "5350948a-e475-4e3c-bff1-d99b76461356",
   "metadata": {},
   "outputs": [
    {
     "data": {
      "text/plain": [
       "array([[ 0.94514062,  3.13873799, -0.13628702],\n",
       "       [ 0.57254932,  0.22974568, -0.98304035]])"
      ]
     },
     "execution_count": 123,
     "metadata": {},
     "output_type": "execute_result"
    }
   ],
   "source": [
    "array=v.random.randn(2,3) # normal distribution for row and column\n",
    "array"
   ]
  },
  {
   "cell_type": "code",
   "execution_count": null,
   "id": "fc540462-aff1-4ecc-9fb0-a22f7183fd6c",
   "metadata": {},
   "outputs": [
    {
     "data": {
      "text/plain": [
       "array([[ 0.9,  3.1, -0.1],\n",
       "       [ 0.6,  0.2, -1. ]])"
      ]
     },
     "execution_count": 124,
     "metadata": {},
     "output_type": "execute_result"
    }
   ],
   "source": [
    "v.round(array,decimals=1) # decimal ke baad kitne number chahiye"
   ]
  },
  {
   "cell_type": "code",
   "execution_count": null,
   "id": "ee35012c-91b1-4ec4-bec5-d95fb41cf3d8",
   "metadata": {},
   "outputs": [
    {
     "data": {
      "text/plain": [
       "array(['cricket', 'diskpati', 'football', 'guchikhel', 'kanche'],\n",
       "      dtype='<U9')"
      ]
     },
     "execution_count": 125,
     "metadata": {},
     "output_type": "execute_result"
    }
   ],
   "source": [
    "sports=v.array(['cricket','kanche','football','guchikhel','diskpati'])\n",
    "v.unique(sports)"
   ]
  },
  {
   "cell_type": "code",
   "execution_count": null,
   "id": "1fa46e6b-4ba1-455e-bb28-779bf95b0ee9",
   "metadata": {},
   "outputs": [
    {
     "data": {
      "text/plain": [
       "array(['basketball', 'cricket', 'diskpati', 'football', 'guchikhel'],\n",
       "      dtype='<U10')"
      ]
     },
     "execution_count": 127,
     "metadata": {},
     "output_type": "execute_result"
    }
   ],
   "source": [
    "sports=v.array(['cricket','basketball','football','guchikhel','diskpati'])\n",
    "v.unique(sports)"
   ]
  }
 ],
 "metadata": {
  "kernelspec": {
   "display_name": "Python 3 (ipykernel)",
   "language": "python",
   "name": "python3"
  },
  "language_info": {
   "codemirror_mode": {
    "name": "ipython",
    "version": 3
   },
   "file_extension": ".py",
   "mimetype": "text/x-python",
   "name": "python",
   "nbconvert_exporter": "python",
   "pygments_lexer": "ipython3",
   "version": "3.12.6"
  }
 },
 "nbformat": 4,
 "nbformat_minor": 5
}
